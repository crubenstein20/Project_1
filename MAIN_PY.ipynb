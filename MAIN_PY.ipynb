{
 "cells": [
  {
   "cell_type": "code",
   "execution_count": 4,
   "metadata": {},
   "outputs": [],
   "source": [
    "# Dependencies and Setup\n",
    "import os\n",
    "import csv\n",
    "import matplotlib.pyplot as plt\n",
    "import pandas as pd\n",
    "import numpy as np\n",
    "import requests\n",
    "import time\n",
    "from scipy.stats import linregress\n",
    "import datetime\n",
    "from pprint import pprint\n"
   ]
  },
  {
   "cell_type": "code",
   "execution_count": 5,
   "metadata": {},
   "outputs": [],
   "source": [
    "#pull data from csv files\n",
    "CharlotteFlights_Data = pd.read_csv(\"Resources/CharlotteChart.csv\")\n",
    "LAXFlights_Data = pd.read_csv(\"Resources/LAXchart.csv\")\n",
    "LittleRockchart_Data = pd.read_csv(\"Resources/LittleRockchart.csv\")\n",
    "CommericalFlights_Data = pd.read_csv(\"Resources/number-of-commercial-fli.csv\")\n",
    "TotalFlights_Data = pd.read_csv(\"Resources/total-number-of-flights.csv\")\n",
    "\n",
    "AllStatesHistorical_Data = pd.read_csv(\"Resources/HistoricalStateData.csv\")"
   ]
  },
  {
   "cell_type": "code",
   "execution_count": null,
   "metadata": {},
   "outputs": [],
   "source": [
    "#adding to blha"
   ]
  }
 ],
 "metadata": {
  "kernelspec": {
   "display_name": "Python 3",
   "language": "python",
   "name": "python3"
  },
  "language_info": {
   "codemirror_mode": {
    "name": "ipython",
    "version": 3
   },
   "file_extension": ".py",
   "mimetype": "text/x-python",
   "name": "python",
   "nbconvert_exporter": "python",
   "pygments_lexer": "ipython3",
   "version": "3.7.4"
  }
 },
 "nbformat": 4,
 "nbformat_minor": 2
}
